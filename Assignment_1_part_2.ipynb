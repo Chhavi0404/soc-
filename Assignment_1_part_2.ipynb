{
  "nbformat": 4,
  "nbformat_minor": 0,
  "metadata": {
    "colab": {
      "provenance": [],
      "authorship_tag": "ABX9TyMFfMweTJ9Uvei3SYMF3teh",
      "include_colab_link": true
    },
    "kernelspec": {
      "name": "python3",
      "display_name": "Python 3"
    },
    "language_info": {
      "name": "python"
    }
  },
  "cells": [
    {
      "cell_type": "markdown",
      "metadata": {
        "id": "view-in-github",
        "colab_type": "text"
      },
      "source": [
        "<a href=\"https://colab.research.google.com/github/Chhavi0404/soc-/blob/main/Assignment_1_part_2.ipynb\" target=\"_parent\"><img src=\"https://colab.research.google.com/assets/colab-badge.svg\" alt=\"Open In Colab\"/></a>"
      ]
    },
    {
      "cell_type": "markdown",
      "source": [
        "**Difference between Supervised , Unsupervised and Reinforcement Learning**\n",
        "\n",
        "\n",
        "*   Supervised Learning means when we train a model with a labeled data and the model learns using those labels, meaning, the machine gets prior knowledge about the result and it learns from it. For example, if we train a model to identify a disease on a basis of symptoms , we'll train it by associating different symptoms with names of diseases and train the model.\n",
        "*   Unsupervised learning is when the dataset is not labeled so the model has to classify on its on taking common characteristics and make categories without labeling them. For example, given MRI pictures , a model could be trained to differentiate the normal images with the abnormal one, without knowing which one of the two categorie shows normal activities.\n",
        "*   Reinforcement Learning is basically how dogs are trained, for good behavious a treat is given and for bad behavious they are punished. In the same way for every correct prediction the model get a positive feedback and for every negative prediction, a negative feedback. Using these feedbacks the model is updated.\n",
        "\n",
        "Their potential use cases could be -\n",
        "\n",
        "1.   Movie suggestions based on previously watched movies(unsupervised)\n",
        "2.   Weather forecasting by associating temp,humidity etc with the weather at that time.\n",
        "3.   Creating bots to play a game(they learn if a certain move makes them go forward in the game) (Reinforcement learning)\n",
        "\n",
        "**Difference between Machine Learning and Deep Learning**\n",
        "\n",
        "\n",
        "\n",
        "*   Machine Learning is a subset of AI, in which we use algorithms instead of programming them exactly and using those algorithms the machine learns an is trained to make predictions. We don't directly tell the machine to do something. The machine gets datasets where it identifies features and characteristics and using them it makes the prediction of the new data.\n",
        "*   Deep Learning is a subset of ML, where neural networks and layers are used. It is based on the working of the brain, just like the way neurons are connected in the brain. Each layer identifies certain feauture. using these multiple layers, the machine makes relations and identifies patterns\n",
        "\n"
      ],
      "metadata": {
        "id": "nMVumoTQmJ0i"
      }
    },
    {
      "cell_type": "code",
      "source": [
        "num = float(input())\n",
        "num = int(num)\n",
        "\n",
        "def palindrome(number):\n",
        "  cnt = 0\n",
        "  a = number\n",
        "  b = number\n",
        "\n",
        "  while number != 0 :\n",
        "    number //= 10\n",
        "    cnt += 1\n",
        "\n",
        "  new_num = 0\n",
        "  for i in range(cnt):\n",
        "    new_num += (a%10)*10**(cnt-i-1)\n",
        "    a= a//10\n",
        "\n",
        "  if new_num == b :\n",
        "   return print(\"given number is a palindrome\")\n",
        "  else :\n",
        "   return print(\"given number is not a palindrome\")\n",
        "\n",
        "palindrome(num)\n"
      ],
      "metadata": {
        "colab": {
          "base_uri": "https://localhost:8080/"
        },
        "id": "hWw7bP3EsXdb",
        "outputId": "230f087d-0572-41f0-96fd-bf27c93ad684"
      },
      "execution_count": null,
      "outputs": [
        {
          "output_type": "stream",
          "name": "stdout",
          "text": [
            "959\n",
            "given number is a palindrome\n"
          ]
        }
      ]
    },
    {
      "cell_type": "code",
      "execution_count": null,
      "metadata": {
        "colab": {
          "base_uri": "https://localhost:8080/"
        },
        "id": "uGhE-9R1nIs_",
        "outputId": "15056d92-d9a4-4313-e182-d9dd50b30f2d"
      },
      "outputs": [
        {
          "output_type": "stream",
          "name": "stdout",
          "text": [
            "[25 20 17 13  9 77  7 35  9 65]\n",
            "27.7\n",
            "77\n",
            "7\n"
          ]
        }
      ],
      "source": [
        "import numpy as np\n",
        "from numpy import random\n",
        "\n",
        "y = random.randint(1,100, size=(10))\n",
        "\n",
        "def mean_value(x):\n",
        "  n = x.shape[0]\n",
        "  mean = 0\n",
        "  for i in range(n):\n",
        "    mean += x[i]\n",
        "  return mean/n\n",
        "\n",
        "def maximum_value(x):\n",
        "  n = x.shape[0]\n",
        "  max_value = x[0]\n",
        "  for i in range(n):\n",
        "    if max_value < x[i]:\n",
        "      max_value = x[i]\n",
        "  return max_value\n",
        "\n",
        "def minimum_value(x):\n",
        "  n = x.shape[0]\n",
        "  min_value = x[0]\n",
        "  for i in range(n):\n",
        "    if min_value > x[i]:\n",
        "      min_value = x[i]\n",
        "  return min_value\n",
        "\n",
        "print(y)\n",
        "print(mean_value(y))\n",
        "print(maximum_value(y))\n",
        "print(minimum_value(y))\n"
      ]
    },
    {
      "cell_type": "code",
      "source": [
        "import pandas as pd\n",
        "\n",
        "dataset = {\n",
        "    \"Name\" : [\"A\",\"B\",\"C\"],\n",
        "    \"Age\" : [20,32,45],\n",
        "    \"City\" : [\"x\",\"y\",\"x\"]\n",
        "}\n",
        "\n",
        "data_frame = pd.DataFrame(dataset)\n",
        "print(data_frame)"
      ],
      "metadata": {
        "colab": {
          "base_uri": "https://localhost:8080/"
        },
        "id": "XjQcmVf3Yxz_",
        "outputId": "f51d5c96-0b81-487c-f08e-be8d7547d712"
      },
      "execution_count": 2,
      "outputs": [
        {
          "output_type": "stream",
          "name": "stdout",
          "text": [
            "  Name  Age City\n",
            "0    A   20    x\n",
            "1    B   32    y\n",
            "2    C   45    x\n"
          ]
        }
      ]
    },
    {
      "cell_type": "code",
      "source": [
        "age_more_than_30 =data_frame.loc[data_frame[\"Age\"] > 30]\n",
        "print(age_more_than_30)"
      ],
      "metadata": {
        "colab": {
          "base_uri": "https://localhost:8080/"
        },
        "id": "udHWJ_EMMPIH",
        "outputId": "f42fffbc-9342-469e-9926-27678c484c4b"
      },
      "execution_count": 3,
      "outputs": [
        {
          "output_type": "stream",
          "name": "stdout",
          "text": [
            "  Name  Age City\n",
            "1    B   32    y\n",
            "2    C   45    x\n"
          ]
        }
      ]
    },
    {
      "cell_type": "code",
      "source": [
        "salary = [50000,60000,70000]\n",
        "\n",
        "data_frame[\"Salary\"] = salary\n",
        "print(data_frame)"
      ],
      "metadata": {
        "colab": {
          "base_uri": "https://localhost:8080/"
        },
        "id": "8N_GEodXOA6k",
        "outputId": "c1b38c9c-a610-4ea0-f9a6-e581dd9cffeb"
      },
      "execution_count": 4,
      "outputs": [
        {
          "output_type": "stream",
          "name": "stdout",
          "text": [
            "  Name  Age City  Salary\n",
            "0    A   20    x   50000\n",
            "1    B   32    y   60000\n",
            "2    C   45    x   70000\n"
          ]
        }
      ]
    },
    {
      "cell_type": "code",
      "source": [
        "import matplotlib\n",
        "import plotly as plt\n",
        "import plotly.graph_objects as go\n",
        "\n",
        "city_wise = data_frame.groupby('City')['Age'].apply(list).reset_index(name='Age')\n",
        "\n",
        "avg = []\n",
        "for i in range(len(city_wise)):\n",
        "  avg.append(sum(city_wise['Age'][i])/len(city_wise['Age'][i]))\n",
        "\n",
        "city_list = city_wise['City'].tolist()\n",
        "\n",
        "\n",
        "city_dataset = {\n",
        "    \"City\" : city_list,\n",
        "    \"Average\" : avg\n",
        "}\n",
        "\n",
        "city_data_frame = pd.DataFrame(city_dataset)\n",
        "\n",
        "city_data_frame.plot(kind='bar',\n",
        "        x='City',\n",
        "        y='Average',\n",
        "        color='blue')\n",
        "\n",
        "\n",
        "\n"
      ],
      "metadata": {
        "colab": {
          "base_uri": "https://localhost:8080/",
          "height": 461
        },
        "id": "-zsbXX5ZbYeG",
        "outputId": "003988eb-c38d-459e-8c20-b9f09449d94c"
      },
      "execution_count": 5,
      "outputs": [
        {
          "output_type": "execute_result",
          "data": {
            "text/plain": [
              "<Axes: xlabel='City'>"
            ]
          },
          "metadata": {},
          "execution_count": 5
        },
        {
          "output_type": "display_data",
          "data": {
            "text/plain": [
              "<Figure size 640x480 with 1 Axes>"
            ],
            "image/png": "[encoded data removed]"
          },
          "metadata": {}
        }
      ]
    }
  ]
}