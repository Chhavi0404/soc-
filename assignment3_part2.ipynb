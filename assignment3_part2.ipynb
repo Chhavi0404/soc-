{
  "nbformat": 4,
  "nbformat_minor": 0,
  "metadata": {
    "colab": {
      "provenance": [],
      "gpuType": "T4",
      "authorship_tag": "ABX9TyOeR3MgUUg2bXUxn3yJuf8A",
      "include_colab_link": true
    },
    "kernelspec": {
      "name": "python3",
      "display_name": "Python 3"
    },
    "language_info": {
      "name": "python"
    },
    "accelerator": "GPU"
  },
  "cells": [
    {
      "cell_type": "markdown",
      "metadata": {
        "id": "view-in-github",
        "colab_type": "text"
      },
      "source": [
        "<a href=\"https://colab.research.google.com/github/Chhavi0404/soc-/blob/main/assignment3_part2.ipynb\" target=\"_parent\"><img src=\"https://colab.research.google.com/assets/colab-badge.svg\" alt=\"Open In Colab\"/></a>"
      ]
    },
    {
      "cell_type": "code",
      "source": [
        "import tensorflow as tf\n",
        "from tensorflow.keras.datasets import cifar10\n",
        "from tensorflow.keras.utils import to_categorical\n",
        "from tensorflow.keras.applications import VGG16\n",
        "from tensorflow.keras.layers import Dense, Flatten, Input\n",
        "from tensorflow.keras.models import Model\n",
        "import numpy as np"
      ],
      "metadata": {
        "id": "oyNa2AXBq9ZG"
      },
      "execution_count": 8,
      "outputs": []
    },
    {
      "cell_type": "code",
      "source": [
        "(train_images, train_labels), (test_images, test_labels) = cifar10.load_data()\n",
        "\n",
        "train_images = train_images.astype('float32') / 255.0\n",
        "test_images = test_images.astype('float32') / 255.0\n",
        "\n",
        "train_labels = to_categorical(train_labels, 10)\n",
        "test_labels = to_categorical(test_labels, 10)"
      ],
      "metadata": {
        "id": "I9WFaSAVrDLu"
      },
      "execution_count": 12,
      "outputs": []
    },
    {
      "cell_type": "code",
      "execution_count": 13,
      "metadata": {
        "colab": {
          "base_uri": "https://localhost:8080/"
        },
        "id": "p8VeCHMOn6AB",
        "outputId": "5e64c24b-2b07-42e1-f2eb-ba434664e132"
      },
      "outputs": [
        {
          "output_type": "stream",
          "name": "stdout",
          "text": [
            "Model: \"model_1\"\n",
            "_________________________________________________________________\n",
            " Layer (type)                Output Shape              Param #   \n",
            "=================================================================\n",
            " input_2 (InputLayer)        [(None, 32, 32, 3)]       0         \n",
            "                                                                 \n",
            " block1_conv1 (Conv2D)       (None, 32, 32, 64)        1792      \n",
            "                                                                 \n",
            " block1_conv2 (Conv2D)       (None, 32, 32, 64)        36928     \n",
            "                                                                 \n",
            " block1_pool (MaxPooling2D)  (None, 16, 16, 64)        0         \n",
            "                                                                 \n",
            " block2_conv1 (Conv2D)       (None, 16, 16, 128)       73856     \n",
            "                                                                 \n",
            " block2_conv2 (Conv2D)       (None, 16, 16, 128)       147584    \n",
            "                                                                 \n",
            " block2_pool (MaxPooling2D)  (None, 8, 8, 128)         0         \n",
            "                                                                 \n",
            " block3_conv1 (Conv2D)       (None, 8, 8, 256)         295168    \n",
            "                                                                 \n",
            " block3_conv2 (Conv2D)       (None, 8, 8, 256)         590080    \n",
            "                                                                 \n",
            " block3_conv3 (Conv2D)       (None, 8, 8, 256)         590080    \n",
            "                                                                 \n",
            " block3_pool (MaxPooling2D)  (None, 4, 4, 256)         0         \n",
            "                                                                 \n",
            " block4_conv1 (Conv2D)       (None, 4, 4, 512)         1180160   \n",
            "                                                                 \n",
            " block4_conv2 (Conv2D)       (None, 4, 4, 512)         2359808   \n",
            "                                                                 \n",
            " block4_conv3 (Conv2D)       (None, 4, 4, 512)         2359808   \n",
            "                                                                 \n",
            " block4_pool (MaxPooling2D)  (None, 2, 2, 512)         0         \n",
            "                                                                 \n",
            " block5_conv1 (Conv2D)       (None, 2, 2, 512)         2359808   \n",
            "                                                                 \n",
            " block5_conv2 (Conv2D)       (None, 2, 2, 512)         2359808   \n",
            "                                                                 \n",
            " block5_conv3 (Conv2D)       (None, 2, 2, 512)         2359808   \n",
            "                                                                 \n",
            " block5_pool (MaxPooling2D)  (None, 1, 1, 512)         0         \n",
            "                                                                 \n",
            " flatten_1 (Flatten)         (None, 512)               0         \n",
            "                                                                 \n",
            " dense_2 (Dense)             (None, 256)               131328    \n",
            "                                                                 \n",
            " dense_3 (Dense)             (None, 10)                2570      \n",
            "                                                                 \n",
            "=================================================================\n",
            "Total params: 14848586 (56.64 MB)\n",
            "Trainable params: 133898 (523.04 KB)\n",
            "Non-trainable params: 14714688 (56.13 MB)\n",
            "_________________________________________________________________\n"
          ]
        }
      ],
      "source": [
        "base_model= VGG16(weights='imagenet', include_top=False , input_shape=(32,32, 3))\n",
        "\n",
        "\n",
        "x = base_model.output\n",
        "x = Flatten()(x)\n",
        "x = Dense(256, activation='relu')(x)\n",
        "x = Dense(10, activation='softmax')(x)\n",
        "\n",
        "\n",
        "model = Model(inputs=base_model.input, outputs=x)\n",
        "\n",
        "for layer in base_model.layers:\n",
        "    layer.trainable = False\n",
        "\n",
        "model.summary()\n"
      ]
    },
    {
      "cell_type": "code",
      "source": [
        "optimizer = tf.keras.optimizers.Adam(learning_rate=0.001)\n",
        "model.compile(optimizer, loss='categorical_crossentropy', metrics=['accuracy'])\n",
        "loss, accuracy = model.evaluate(test_images, test_labels, verbose=0)\n",
        "print('Test loss:', loss)\n",
        "print('Test accuracy:', accuracy)"
      ],
      "metadata": {
        "colab": {
          "base_uri": "https://localhost:8080/"
        },
        "id": "ocyMMTKiwgyL",
        "outputId": "fae03a29-cddc-4696-d72c-753645dd6a13"
      },
      "execution_count": 14,
      "outputs": [
        {
          "output_type": "stream",
          "name": "stdout",
          "text": [
            "Test loss: 2.438570022583008\n",
            "Test accuracy: 0.09600000083446503\n"
          ]
        }
      ]
    },
    {
      "cell_type": "code",
      "source": [
        "optimizer = tf.keras.optimizers.Adam(learning_rate=0.001)\n",
        "model.compile(optimizer, loss='categorical_crossentropy', metrics=['accuracy'])\n",
        "history = model.fit(train_images, train_labels, epochs=20,\n",
        "                    validation_data=(test_images, test_labels),\n",
        "                    batch_size=64)\n",
        "loss, accuracy = model.evaluate(test_images, test_labels, verbose=0)\n",
        "print('Test loss:', loss)\n",
        "print('Test accuracy:', accuracy)"
      ],
      "metadata": {
        "colab": {
          "base_uri": "https://localhost:8080/"
        },
        "id": "6vqaQ-DtrL8Z",
        "outputId": "a8c9047b-6bf0-4062-931d-e521f26635df"
      },
      "execution_count": 15,
      "outputs": [
        {
          "output_type": "stream",
          "name": "stdout",
          "text": [
            "Epoch 1/20\n",
            "782/782 [==============================] - 13s 16ms/step - loss: 1.3709 - accuracy: 0.5193 - val_loss: 1.2814 - val_accuracy: 0.5464\n",
            "Epoch 2/20\n",
            "782/782 [==============================] - 11s 13ms/step - loss: 1.1840 - accuracy: 0.5860 - val_loss: 1.1936 - val_accuracy: 0.5778\n",
            "Epoch 3/20\n",
            "782/782 [==============================] - 11s 15ms/step - loss: 1.1200 - accuracy: 0.6092 - val_loss: 1.1508 - val_accuracy: 0.5940\n",
            "Epoch 4/20\n",
            "782/782 [==============================] - 11s 14ms/step - loss: 1.0786 - accuracy: 0.6232 - val_loss: 1.1341 - val_accuracy: 0.5982\n",
            "Epoch 5/20\n",
            "782/782 [==============================] - 12s 15ms/step - loss: 1.0379 - accuracy: 0.6359 - val_loss: 1.1330 - val_accuracy: 0.6036\n",
            "Epoch 6/20\n",
            "782/782 [==============================] - 10s 13ms/step - loss: 1.0075 - accuracy: 0.6467 - val_loss: 1.1239 - val_accuracy: 0.6069\n",
            "Epoch 7/20\n",
            "782/782 [==============================] - 11s 15ms/step - loss: 0.9720 - accuracy: 0.6581 - val_loss: 1.1006 - val_accuracy: 0.6229\n",
            "Epoch 8/20\n",
            "782/782 [==============================] - 10s 13ms/step - loss: 0.9459 - accuracy: 0.6684 - val_loss: 1.1102 - val_accuracy: 0.6157\n",
            "Epoch 9/20\n",
            "782/782 [==============================] - 12s 15ms/step - loss: 0.9159 - accuracy: 0.6785 - val_loss: 1.1011 - val_accuracy: 0.6214\n",
            "Epoch 10/20\n",
            "782/782 [==============================] - 12s 15ms/step - loss: 0.8918 - accuracy: 0.6871 - val_loss: 1.1108 - val_accuracy: 0.6164\n",
            "Epoch 11/20\n",
            "782/782 [==============================] - 11s 15ms/step - loss: 0.8672 - accuracy: 0.6951 - val_loss: 1.1060 - val_accuracy: 0.6183\n",
            "Epoch 12/20\n",
            "782/782 [==============================] - 11s 15ms/step - loss: 0.8411 - accuracy: 0.7048 - val_loss: 1.1007 - val_accuracy: 0.6231\n",
            "Epoch 13/20\n",
            "782/782 [==============================] - 11s 15ms/step - loss: 0.8184 - accuracy: 0.7117 - val_loss: 1.1118 - val_accuracy: 0.6211\n",
            "Epoch 14/20\n",
            "782/782 [==============================] - 11s 14ms/step - loss: 0.7949 - accuracy: 0.7220 - val_loss: 1.1211 - val_accuracy: 0.6182\n",
            "Epoch 15/20\n",
            "782/782 [==============================] - 11s 14ms/step - loss: 0.7724 - accuracy: 0.7271 - val_loss: 1.1284 - val_accuracy: 0.6237\n",
            "Epoch 16/20\n",
            "782/782 [==============================] - 10s 13ms/step - loss: 0.7515 - accuracy: 0.7362 - val_loss: 1.1282 - val_accuracy: 0.6245\n",
            "Epoch 17/20\n",
            "782/782 [==============================] - 10s 13ms/step - loss: 0.7305 - accuracy: 0.7431 - val_loss: 1.1436 - val_accuracy: 0.6217\n",
            "Epoch 18/20\n",
            "782/782 [==============================] - 10s 13ms/step - loss: 0.7093 - accuracy: 0.7534 - val_loss: 1.1739 - val_accuracy: 0.6171\n",
            "Epoch 19/20\n",
            "782/782 [==============================] - 10s 13ms/step - loss: 0.6911 - accuracy: 0.7588 - val_loss: 1.1785 - val_accuracy: 0.6165\n",
            "Epoch 20/20\n",
            "782/782 [==============================] - 11s 14ms/step - loss: 0.6716 - accuracy: 0.7654 - val_loss: 1.1616 - val_accuracy: 0.6186\n",
            "Test loss: 1.1616253852844238\n",
            "Test accuracy: 0.6186000108718872\n"
          ]
        }
      ]
    }
  ]
}