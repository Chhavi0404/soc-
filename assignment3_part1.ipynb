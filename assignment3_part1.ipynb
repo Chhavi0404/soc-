{
  "nbformat": 4,
  "nbformat_minor": 0,
  "metadata": {
    "colab": {
      "provenance": [],
      "gpuType": "T4",
      "authorship_tag": "ABX9TyOcKK+foqsQ+q/QG05iwv0y",
      "include_colab_link": true
    },
    "kernelspec": {
      "name": "python3",
      "display_name": "Python 3"
    },
    "language_info": {
      "name": "python"
    },
    "accelerator": "GPU"
  },
  "cells": [
    {
      "cell_type": "markdown",
      "metadata": {
        "id": "view-in-github",
        "colab_type": "text"
      },
      "source": [
        "<a href=\"https://colab.research.google.com/github/Chhavi0404/soc-/blob/main/assignment3_part1.ipynb\" target=\"_parent\"><img src=\"https://colab.research.google.com/assets/colab-badge.svg\" alt=\"Open In Colab\"/></a>"
      ]
    },
    {
      "cell_type": "code",
      "source": [
        "import tensorflow as tf\n",
        "from tensorflow.keras import datasets, layers, models\n",
        "import matplotlib.pyplot as plt\n",
        "import numpy as np\n",
        "from keras.preprocessing.image import ImageDataGenerator"
      ],
      "metadata": {
        "id": "2izkEdzfScID"
      },
      "execution_count": 10,
      "outputs": []
    },
    {
      "cell_type": "code",
      "execution_count": 11,
      "metadata": {
        "colab": {
          "base_uri": "https://localhost:8080/"
        },
        "id": "l7DjHCpmNacc",
        "outputId": "457c8289-04ae-484a-f4b4-4a35b27df463"
      },
      "outputs": [
        {
          "output_type": "stream",
          "name": "stdout",
          "text": [
            "Train images shape: (50000, 32, 32, 3)\n",
            "Test images shape: (10000, 32, 32, 3)\n",
            "Train labels shape: (50000, 1)\n",
            "Test labels shape: (10000, 1)\n"
          ]
        }
      ],
      "source": [
        "# Load and preprocess the CIFAR-100 dataset\n",
        "(X_train, Y_train), (X_test, Y_test) = datasets.cifar100.load_data()\n",
        "\n",
        "# Normalize pixel values\n",
        "X_train, Y_testtest = X_train / 255.0, X_test / 255.0\n",
        "\n",
        "X, Y = np.vstack((X_train, X_test)), np.vstack((Y_train, Y_test))\n",
        "\n",
        "def shuffle_train_data(X_train, Y_train):\n",
        "  perm = np.random.permutation(len(Y_train))\n",
        "  Xtr_shuf = X_train[perm]\n",
        "  Ytr_shuf = Y_train[perm]\n",
        "  return Xtr_shuf, Ytr_shuf\n",
        "\n",
        "\n",
        "X_shuffled, Y_shuffled = shuffle_train_data(X, Y)\n",
        "\n",
        "(train_images,train_labels) = X_shuffled[:50000, ...], Y_shuffled[:50000, ...]\n",
        "\n",
        "(test_images,test_labels) = X_shuffled[50000:, ...], Y_shuffled[50000:, ...]\n",
        "\n",
        "\n",
        "print(f'Train images shape: {train_images.shape}')\n",
        "print(f'Test images shape: {test_images.shape}')\n",
        "print(f'Train labels shape: {train_labels.shape}')\n",
        "print(f'Test labels shape: {test_labels.shape}')"
      ]
    },
    {
      "cell_type": "code",
      "source": [
        "model = models.Sequential()\n",
        "\n",
        "model.add(layers.Conv2D(64,(3,3), activation=\"relu\",padding=\"same\" , input_shape=(32,32,3)))\n",
        "model.add(layers.Conv2D(64,(3,3), activation=\"relu\",padding=\"same\"))\n",
        "model.add(layers.MaxPooling2D((2,2),strides=(2,2)))\n",
        "model.add(layers.Dropout(0.3))\n",
        "model.add(layers.Conv2D(128,(3,3), activation=\"relu\",padding=\"same\"))\n",
        "model.add(layers.Conv2D(128,(3,3), activation=\"relu\",padding=\"same\"))\n",
        "model.add(layers.MaxPooling2D((2,2),strides=(2,2)))\n",
        "model.add(layers.Dropout(0.3))\n",
        "model.add(layers.Conv2D(256,(3,3), activation=\"relu\",padding=\"same\"))\n",
        "model.add(layers.Conv2D(256,(3,3), activation=\"relu\",padding=\"same\"))\n",
        "model.add(layers.MaxPooling2D((2,2),strides=(2,2)))\n",
        "model.add(layers.Dropout(0.4))\n",
        "model.add(layers.Conv2D(512,(3,3), activation=\"relu\",padding=\"same\"))\n",
        "model.add(layers.Conv2D(512,(3,3), activation=\"relu\",padding=\"same\"))\n",
        "model.add(layers.MaxPooling2D((2,2),strides=(2,2)))\n",
        "model.add(layers.Dropout(0.4))\n",
        "\n",
        "\n",
        "model.add(layers.Flatten())\n",
        "model.add(layers.Dense(512,activation=\"relu\"))\n",
        "model.add(layers.Dropout(0.4))\n",
        "model.add(layers.Dense(256,activation=\"relu\"))\n",
        "model.add(layers.Dropout(0.4))\n",
        "model.add(layers.Dense(100,activation=\"softmax\"))\n",
        "\n",
        "model.summary()\n"
      ],
      "metadata": {
        "id": "WN3xHCttSMRR",
        "colab": {
          "base_uri": "https://localhost:8080/"
        },
        "outputId": "822b3958-281b-4d7c-9387-9bdc7613f629"
      },
      "execution_count": 20,
      "outputs": [
        {
          "output_type": "stream",
          "name": "stdout",
          "text": [
            "Model: \"sequential_3\"\n",
            "_________________________________________________________________\n",
            " Layer (type)                Output Shape              Param #   \n",
            "=================================================================\n",
            " conv2d_23 (Conv2D)          (None, 32, 32, 64)        1792      \n",
            "                                                                 \n",
            " conv2d_24 (Conv2D)          (None, 32, 32, 64)        36928     \n",
            "                                                                 \n",
            " max_pooling2d_12 (MaxPooli  (None, 16, 16, 64)        0         \n",
            " ng2D)                                                           \n",
            "                                                                 \n",
            " dropout_18 (Dropout)        (None, 16, 16, 64)        0         \n",
            "                                                                 \n",
            " conv2d_25 (Conv2D)          (None, 16, 16, 128)       73856     \n",
            "                                                                 \n",
            " conv2d_26 (Conv2D)          (None, 16, 16, 128)       147584    \n",
            "                                                                 \n",
            " max_pooling2d_13 (MaxPooli  (None, 8, 8, 128)         0         \n",
            " ng2D)                                                           \n",
            "                                                                 \n",
            " dropout_19 (Dropout)        (None, 8, 8, 128)         0         \n",
            "                                                                 \n",
            " conv2d_27 (Conv2D)          (None, 8, 8, 256)         295168    \n",
            "                                                                 \n",
            " conv2d_28 (Conv2D)          (None, 8, 8, 256)         590080    \n",
            "                                                                 \n",
            " max_pooling2d_14 (MaxPooli  (None, 4, 4, 256)         0         \n",
            " ng2D)                                                           \n",
            "                                                                 \n",
            " dropout_20 (Dropout)        (None, 4, 4, 256)         0         \n",
            "                                                                 \n",
            " conv2d_29 (Conv2D)          (None, 4, 4, 512)         1180160   \n",
            "                                                                 \n",
            " conv2d_30 (Conv2D)          (None, 4, 4, 512)         2359808   \n",
            "                                                                 \n",
            " max_pooling2d_15 (MaxPooli  (None, 2, 2, 512)         0         \n",
            " ng2D)                                                           \n",
            "                                                                 \n",
            " dropout_21 (Dropout)        (None, 2, 2, 512)         0         \n",
            "                                                                 \n",
            " flatten_3 (Flatten)         (None, 2048)              0         \n",
            "                                                                 \n",
            " dense_9 (Dense)             (None, 512)               1049088   \n",
            "                                                                 \n",
            " dropout_22 (Dropout)        (None, 512)               0         \n",
            "                                                                 \n",
            " dense_10 (Dense)            (None, 256)               131328    \n",
            "                                                                 \n",
            " dropout_23 (Dropout)        (None, 256)               0         \n",
            "                                                                 \n",
            " dense_11 (Dense)            (None, 100)               25700     \n",
            "                                                                 \n",
            "=================================================================\n",
            "Total params: 5891492 (22.47 MB)\n",
            "Trainable params: 5891492 (22.47 MB)\n",
            "Non-trainable params: 0 (0.00 Byte)\n",
            "_________________________________________________________________\n"
          ]
        }
      ]
    },
    {
      "cell_type": "code",
      "source": [
        "optimizer = tf.keras.optimizers.Adam(learning_rate=0.0001)\n",
        "model.compile(optimizer=optimizer,loss=\"categorical_crossentropy\",metrics=[\"accuracy\"])"
      ],
      "metadata": {
        "id": "DykQrdBqdtCq"
      },
      "execution_count": 21,
      "outputs": []
    },
    {
      "cell_type": "code",
      "source": [
        "train_labels_categorical = tf.keras.utils.to_categorical(train_labels)\n",
        "test_labels_categorical = tf.keras.utils.to_categorical(test_labels)\n",
        "\n",
        "history = model.fit(train_images, train_labels_categorical, epochs=60,\n",
        "                    validation_data=(test_images, test_labels_categorical),\n",
        "                    batch_size=64)"
      ],
      "metadata": {
        "colab": {
          "base_uri": "https://localhost:8080/"
        },
        "id": "mvNcwOw4eYbd",
        "outputId": "90a6d389-fcb9-4694-e681-5500a6dcdc24"
      },
      "execution_count": 22,
      "outputs": [
        {
          "output_type": "stream",
          "name": "stdout",
          "text": [
            "Epoch 1/60\n",
            "782/782 [==============================] - 24s 26ms/step - loss: 4.6340 - accuracy: 0.0095 - val_loss: 4.6052 - val_accuracy: 0.0093\n",
            "Epoch 2/60\n",
            "782/782 [==============================] - 20s 25ms/step - loss: 4.6063 - accuracy: 0.0099 - val_loss: 4.6051 - val_accuracy: 0.0066\n",
            "Epoch 3/60\n",
            "782/782 [==============================] - 19s 25ms/step - loss: 4.6022 - accuracy: 0.0105 - val_loss: 4.5979 - val_accuracy: 0.0171\n",
            "Epoch 4/60\n",
            "782/782 [==============================] - 20s 25ms/step - loss: 4.5069 - accuracy: 0.0179 - val_loss: 4.4106 - val_accuracy: 0.0194\n",
            "Epoch 5/60\n",
            "782/782 [==============================] - 20s 25ms/step - loss: 4.3688 - accuracy: 0.0230 - val_loss: 4.2902 - val_accuracy: 0.0271\n",
            "Epoch 6/60\n",
            "782/782 [==============================] - 19s 25ms/step - loss: 4.2586 - accuracy: 0.0329 - val_loss: 4.1113 - val_accuracy: 0.0473\n",
            "Epoch 7/60\n",
            "782/782 [==============================] - 20s 25ms/step - loss: 4.1284 - accuracy: 0.0478 - val_loss: 3.9980 - val_accuracy: 0.0652\n",
            "Epoch 8/60\n",
            "782/782 [==============================] - 19s 25ms/step - loss: 4.0227 - accuracy: 0.0620 - val_loss: 3.8932 - val_accuracy: 0.0858\n",
            "Epoch 9/60\n",
            "782/782 [==============================] - 20s 25ms/step - loss: 3.9165 - accuracy: 0.0785 - val_loss: 3.8718 - val_accuracy: 0.0893\n",
            "Epoch 10/60\n",
            "782/782 [==============================] - 20s 25ms/step - loss: 3.8142 - accuracy: 0.0935 - val_loss: 3.6629 - val_accuracy: 0.1230\n",
            "Epoch 11/60\n",
            "782/782 [==============================] - 20s 25ms/step - loss: 3.7053 - accuracy: 0.1140 - val_loss: 3.5474 - val_accuracy: 0.1444\n",
            "Epoch 12/60\n",
            "782/782 [==============================] - 19s 25ms/step - loss: 3.6246 - accuracy: 0.1277 - val_loss: 3.4870 - val_accuracy: 0.1556\n",
            "Epoch 13/60\n",
            "782/782 [==============================] - 19s 25ms/step - loss: 3.5276 - accuracy: 0.1479 - val_loss: 3.3749 - val_accuracy: 0.1789\n",
            "Epoch 14/60\n",
            "782/782 [==============================] - 20s 25ms/step - loss: 3.4405 - accuracy: 0.1652 - val_loss: 3.2757 - val_accuracy: 0.2012\n",
            "Epoch 15/60\n",
            "782/782 [==============================] - 19s 25ms/step - loss: 3.3566 - accuracy: 0.1760 - val_loss: 3.1906 - val_accuracy: 0.2136\n",
            "Epoch 16/60\n",
            "782/782 [==============================] - 20s 25ms/step - loss: 3.2757 - accuracy: 0.1934 - val_loss: 3.1094 - val_accuracy: 0.2261\n",
            "Epoch 17/60\n",
            "782/782 [==============================] - 19s 25ms/step - loss: 3.1893 - accuracy: 0.2091 - val_loss: 3.0694 - val_accuracy: 0.2364\n",
            "Epoch 18/60\n",
            "782/782 [==============================] - 20s 25ms/step - loss: 3.1130 - accuracy: 0.2237 - val_loss: 2.9406 - val_accuracy: 0.2620\n",
            "Epoch 19/60\n",
            "782/782 [==============================] - 20s 25ms/step - loss: 3.0346 - accuracy: 0.2396 - val_loss: 2.8612 - val_accuracy: 0.2853\n",
            "Epoch 20/60\n",
            "782/782 [==============================] - 19s 25ms/step - loss: 2.9524 - accuracy: 0.2545 - val_loss: 2.8559 - val_accuracy: 0.2828\n",
            "Epoch 21/60\n",
            "782/782 [==============================] - 20s 25ms/step - loss: 2.8825 - accuracy: 0.2692 - val_loss: 2.7917 - val_accuracy: 0.2986\n",
            "Epoch 22/60\n",
            "782/782 [==============================] - 20s 25ms/step - loss: 2.8124 - accuracy: 0.2837 - val_loss: 2.6795 - val_accuracy: 0.3168\n",
            "Epoch 23/60\n",
            "782/782 [==============================] - 20s 25ms/step - loss: 2.7443 - accuracy: 0.2967 - val_loss: 2.6321 - val_accuracy: 0.3275\n",
            "Epoch 24/60\n",
            "782/782 [==============================] - 20s 25ms/step - loss: 2.6822 - accuracy: 0.3083 - val_loss: 2.6019 - val_accuracy: 0.3382\n",
            "Epoch 25/60\n",
            "782/782 [==============================] - 20s 25ms/step - loss: 2.6140 - accuracy: 0.3241 - val_loss: 2.5606 - val_accuracy: 0.3410\n",
            "Epoch 26/60\n",
            "782/782 [==============================] - 20s 26ms/step - loss: 2.5605 - accuracy: 0.3321 - val_loss: 2.4917 - val_accuracy: 0.3541\n",
            "Epoch 27/60\n",
            "782/782 [==============================] - 20s 25ms/step - loss: 2.4947 - accuracy: 0.3497 - val_loss: 2.4466 - val_accuracy: 0.3662\n",
            "Epoch 28/60\n",
            "782/782 [==============================] - 20s 26ms/step - loss: 2.4395 - accuracy: 0.3584 - val_loss: 2.3832 - val_accuracy: 0.3751\n",
            "Epoch 29/60\n",
            "782/782 [==============================] - 20s 25ms/step - loss: 2.3867 - accuracy: 0.3678 - val_loss: 2.3396 - val_accuracy: 0.3857\n",
            "Epoch 30/60\n",
            "782/782 [==============================] - 20s 26ms/step - loss: 2.3377 - accuracy: 0.3820 - val_loss: 2.3240 - val_accuracy: 0.3885\n",
            "Epoch 31/60\n",
            "782/782 [==============================] - 20s 26ms/step - loss: 2.2873 - accuracy: 0.3910 - val_loss: 2.2672 - val_accuracy: 0.4010\n",
            "Epoch 32/60\n",
            "782/782 [==============================] - 20s 26ms/step - loss: 2.2386 - accuracy: 0.4055 - val_loss: 2.2230 - val_accuracy: 0.4091\n",
            "Epoch 33/60\n",
            "782/782 [==============================] - 20s 25ms/step - loss: 2.1938 - accuracy: 0.4147 - val_loss: 2.2773 - val_accuracy: 0.4050\n",
            "Epoch 34/60\n",
            "782/782 [==============================] - 20s 25ms/step - loss: 2.1465 - accuracy: 0.4213 - val_loss: 2.1814 - val_accuracy: 0.4261\n",
            "Epoch 35/60\n",
            "782/782 [==============================] - 20s 25ms/step - loss: 2.1023 - accuracy: 0.4316 - val_loss: 2.1605 - val_accuracy: 0.4296\n",
            "Epoch 36/60\n",
            "782/782 [==============================] - 20s 25ms/step - loss: 2.0601 - accuracy: 0.4422 - val_loss: 2.1853 - val_accuracy: 0.4276\n",
            "Epoch 37/60\n",
            "782/782 [==============================] - 20s 26ms/step - loss: 2.0165 - accuracy: 0.4527 - val_loss: 2.1651 - val_accuracy: 0.4330\n",
            "Epoch 38/60\n",
            "782/782 [==============================] - 20s 25ms/step - loss: 1.9782 - accuracy: 0.4594 - val_loss: 2.1186 - val_accuracy: 0.4438\n",
            "Epoch 39/60\n",
            "782/782 [==============================] - 19s 25ms/step - loss: 1.9457 - accuracy: 0.4678 - val_loss: 2.1516 - val_accuracy: 0.4345\n",
            "Epoch 40/60\n",
            "782/782 [==============================] - 20s 25ms/step - loss: 1.9035 - accuracy: 0.4785 - val_loss: 2.1836 - val_accuracy: 0.4367\n",
            "Epoch 41/60\n",
            "782/782 [==============================] - 19s 25ms/step - loss: 1.8572 - accuracy: 0.4854 - val_loss: 2.1395 - val_accuracy: 0.4477\n",
            "Epoch 42/60\n",
            "782/782 [==============================] - 20s 25ms/step - loss: 1.8344 - accuracy: 0.4931 - val_loss: 2.0901 - val_accuracy: 0.4563\n",
            "Epoch 43/60\n",
            "782/782 [==============================] - 20s 25ms/step - loss: 1.7854 - accuracy: 0.5042 - val_loss: 2.0504 - val_accuracy: 0.4696\n",
            "Epoch 44/60\n",
            "782/782 [==============================] - 20s 25ms/step - loss: 1.7512 - accuracy: 0.5113 - val_loss: 2.0767 - val_accuracy: 0.4663\n",
            "Epoch 45/60\n",
            "782/782 [==============================] - 20s 25ms/step - loss: 1.7197 - accuracy: 0.5194 - val_loss: 2.0645 - val_accuracy: 0.4697\n",
            "Epoch 46/60\n",
            "782/782 [==============================] - 20s 25ms/step - loss: 1.6809 - accuracy: 0.5287 - val_loss: 2.0625 - val_accuracy: 0.4720\n",
            "Epoch 47/60\n",
            "782/782 [==============================] - 20s 25ms/step - loss: 1.6496 - accuracy: 0.5363 - val_loss: 2.0689 - val_accuracy: 0.4767\n",
            "Epoch 48/60\n",
            "782/782 [==============================] - 20s 25ms/step - loss: 1.6191 - accuracy: 0.5435 - val_loss: 2.1087 - val_accuracy: 0.4755\n",
            "Epoch 49/60\n",
            "782/782 [==============================] - 20s 25ms/step - loss: 1.5863 - accuracy: 0.5515 - val_loss: 2.0565 - val_accuracy: 0.4819\n",
            "Epoch 50/60\n",
            "782/782 [==============================] - 19s 25ms/step - loss: 1.5448 - accuracy: 0.5610 - val_loss: 2.0306 - val_accuracy: 0.4927\n",
            "Epoch 51/60\n",
            "782/782 [==============================] - 20s 25ms/step - loss: 1.5240 - accuracy: 0.5636 - val_loss: 2.0355 - val_accuracy: 0.4844\n",
            "Epoch 52/60\n",
            "782/782 [==============================] - 20s 26ms/step - loss: 1.4881 - accuracy: 0.5719 - val_loss: 2.0331 - val_accuracy: 0.4936\n",
            "Epoch 53/60\n",
            "782/782 [==============================] - 20s 25ms/step - loss: 1.4603 - accuracy: 0.5794 - val_loss: 2.0806 - val_accuracy: 0.4936\n",
            "Epoch 54/60\n",
            "782/782 [==============================] - 20s 25ms/step - loss: 1.4325 - accuracy: 0.5880 - val_loss: 2.0329 - val_accuracy: 0.4955\n",
            "Epoch 55/60\n",
            "782/782 [==============================] - 19s 25ms/step - loss: 1.4062 - accuracy: 0.5935 - val_loss: 2.0621 - val_accuracy: 0.4906\n",
            "Epoch 56/60\n",
            "782/782 [==============================] - 20s 25ms/step - loss: 1.3747 - accuracy: 0.6005 - val_loss: 2.0806 - val_accuracy: 0.4914\n",
            "Epoch 57/60\n",
            "782/782 [==============================] - 20s 25ms/step - loss: 1.3507 - accuracy: 0.6105 - val_loss: 2.0207 - val_accuracy: 0.5017\n",
            "Epoch 58/60\n",
            "782/782 [==============================] - 20s 25ms/step - loss: 1.3333 - accuracy: 0.6111 - val_loss: 2.1085 - val_accuracy: 0.4916\n",
            "Epoch 59/60\n",
            "782/782 [==============================] - 20s 25ms/step - loss: 1.3066 - accuracy: 0.6180 - val_loss: 2.0624 - val_accuracy: 0.5036\n",
            "Epoch 60/60\n",
            "782/782 [==============================] - 20s 25ms/step - loss: 1.2702 - accuracy: 0.6280 - val_loss: 2.1254 - val_accuracy: 0.4939\n"
          ]
        }
      ]
    },
    {
      "cell_type": "code",
      "source": [
        "test_labels_categorical = tf.keras.utils.to_categorical(test_labels)\n",
        "\n",
        "test_loss, test_acc = model.evaluate(test_images, test_labels_categorical, verbose=2)\n",
        "print(f'\\nTest accuracy: {test_acc:.4f}')\n"
      ],
      "metadata": {
        "colab": {
          "base_uri": "https://localhost:8080/"
        },
        "id": "X87VPkN3JDKG",
        "outputId": "e3728aa5-c7b0-4ce2-8577-4d0fbd4749d7"
      },
      "execution_count": 18,
      "outputs": [
        {
          "output_type": "stream",
          "name": "stdout",
          "text": [
            "313/313 - 1s - loss: 1.8919 - accuracy: 0.4916 - 1s/epoch - 5ms/step\n",
            "\n",
            "Test accuracy: 0.4916\n"
          ]
        }
      ]
    },
    {
      "cell_type": "code",
      "source": [
        "plt.plot(history.history['accuracy'], label='accuracy')\n",
        "plt.plot(history.history['val_accuracy'], label = 'val_accuracy')\n",
        "plt.xlabel('Epoch')\n",
        "plt.ylabel('Accuracy')\n",
        "plt.ylim([0, 1])\n",
        "plt.legend(loc='lower right')\n",
        "plt.show()"
      ],
      "metadata": {
        "colab": {
          "base_uri": "https://localhost:8080/",
          "height": 455
        },
        "id": "k-UC8vlkJFyZ",
        "outputId": "291d288f-fef3-4845-fde2-d2ead4022649"
      },
      "execution_count": 19,
      "outputs": [
        {
          "output_type": "display_data",
          "data": {
            "text/plain": [
              "<Figure size 640x480 with 1 Axes>"
            ],
            "image/png": "[encoded data removed]"
          },
          "metadata": {}
        }
      ]
    }
  ]
}