{
  "nbformat": 4,
  "nbformat_minor": 0,
  "metadata": {
    "colab": {
      "provenance": [],
      "authorship_tag": "ABX9TyM8MH8KR2kAne0fSkkcjqBe",
      "include_colab_link": true
    },
    "kernelspec": {
      "name": "python3",
      "display_name": "Python 3"
    },
    "language_info": {
      "name": "python"
    }
  },
  "cells": [
    {
      "cell_type": "markdown",
      "metadata": {
        "id": "view-in-github",
        "colab_type": "text"
      },
      "source": [
        "<a href=\"https://colab.research.google.com/github/Chhavi0404/soc-/blob/main/assignment_1_part_1.ipynb\" target=\"_parent\"><img src=\"https://colab.research.google.com/assets/colab-badge.svg\" alt=\"Open In Colab\"/></a>"
      ]
    },
    {
      "cell_type": "code",
      "execution_count": 5,
      "metadata": {
        "colab": {
          "base_uri": "https://localhost:8080/"
        },
        "id": "FhBmDXcGfHG-",
        "outputId": "b4a7dd0c-d74b-4ed4-a095-a9134bd31508"
      },
      "outputs": [
        {
          "output_type": "stream",
          "name": "stdout",
          "text": [
            "5\n",
            "n = 5.0\n"
          ]
        }
      ],
      "source": [
        "n = float(input())\n",
        "print (f'n = {n}')"
      ]
    },
    {
      "cell_type": "code",
      "source": [
        "n = float(input())\n",
        "while True:\n",
        "  if n.is_integer():\n",
        "    print(f\"n={n} is an integer\")\n",
        "    break\n",
        "  else :\n",
        "    print(f\"n={n} is not an integer\")\n",
        "    n = float(input())\n",
        "\n",
        "if n.is_integer():\n",
        "  if n%2 == 0 :\n",
        "    print(f\"n={n} is even\")\n",
        "  else :\n",
        "    print(f\"n={n} is odd\")\n"
      ],
      "metadata": {
        "colab": {
          "base_uri": "https://localhost:8080/"
        },
        "id": "quTTs_4sf_Jq",
        "outputId": "44dd1602-1185-44b8-8508-8a911ed453c8"
      },
      "execution_count": 6,
      "outputs": [
        {
          "output_type": "stream",
          "name": "stdout",
          "text": [
            "4\n",
            "n=4.0 is an integer\n",
            "n=4.0 is even\n"
          ]
        }
      ]
    },
    {
      "cell_type": "code",
      "source": [
        "import numpy as np\n",
        "\n",
        "m=int(input('number of rows in array:'))\n",
        "n=int(input('number of columns in array:'))\n",
        "\n",
        "arr = np.zeros((m,n))\n",
        "for j in range(m):\n",
        "  elements = []\n",
        "  for i in range(n):\n",
        "    x = int(input())\n",
        "    elements.append(x)\n",
        "  arr[j]=elements\n",
        "\n",
        "print (arr)"
      ],
      "metadata": {
        "colab": {
          "base_uri": "https://localhost:8080/"
        },
        "id": "Ybz1t-OfnsK0",
        "outputId": "af8f1695-08b4-45ca-fd93-6cf6ecb29f6b"
      },
      "execution_count": 8,
      "outputs": [
        {
          "output_type": "stream",
          "name": "stdout",
          "text": [
            "number of rows in array:1\n",
            "number of columns in array:2\n",
            "1\n",
            "3\n",
            "[[1. 3.]]\n"
          ]
        }
      ]
    },
    {
      "cell_type": "code",
      "source": [
        "import numpy as np\n",
        "\n",
        "arr = np.array([[90,69,0,-1,-3],[4,2,3,7,406],[11,-12,43,-3,33],[7,7,-1,-9,-100],[100,62,2,1,11]])\n",
        "\n",
        "def diagonallyDominant(arr, verbose=False):\n",
        "  n = arr.shape[0]\n",
        "\n",
        "  for i in range(n):\n",
        "    sum = 0\n",
        "    for j in range(n):\n",
        "     sum += abs(arr[i,j])\n",
        "    for j in range(n):\n",
        "      sum_without_j= sum - abs(arr[i,j])\n",
        "      if sum_without_j< abs(arr[i,j]):\n",
        "        replace = arr[i,i]\n",
        "        arr[i,i]= arr[i,j]\n",
        "        x= arr[i,j]\n",
        "        arr[i,j] = replace\n",
        "        break\n",
        "      else :\n",
        "        replace = arr [i,i]\n",
        "        x=arr[i,i]\n",
        "    print(f\"Adjusting Row {i+1} \")\n",
        "    print(f\"Swapped elements {replace} && {x} in row {i+1} to make it diagonally dominant\")\n",
        "    print(arr)\n",
        "\n",
        "  print('The matrix is now diagonally dominant')\n",
        "  return arr\n",
        "\n",
        "print(\"Original matrix: \")\n",
        "print(arr)\n",
        "print(\"_\"*100,\"\\n\")\n",
        "\n",
        "A = diagonallyDominant(arr, verbose=True)\n",
        "print(\"_\"*100,\"\\n\")\n",
        "\n",
        "print(\"Matrix obtained is: \")\n",
        "print(A)\n",
        "\n"
      ],
      "metadata": {
        "colab": {
          "base_uri": "https://localhost:8080/"
        },
        "id": "btPN9QM71fzq",
        "outputId": "00f231a3-34ce-49f2-f415-3c92dcc954d4"
      },
      "execution_count": 9,
      "outputs": [
        {
          "output_type": "stream",
          "name": "stdout",
          "text": [
            "Original matrix: \n",
            "[[  90   69    0   -1   -3]\n",
            " [   4    2    3    7  406]\n",
            " [  11  -12   43   -3   33]\n",
            " [   7    7   -1   -9 -100]\n",
            " [ 100   62    2    1   11]]\n",
            "____________________________________________________________________________________________________ \n",
            "\n",
            "Adjusting Row 1 \n",
            "Swapped elements 90 && 90 in row 1 to make it diagonally dominant\n",
            "[[  90   69    0   -1   -3]\n",
            " [   4    2    3    7  406]\n",
            " [  11  -12   43   -3   33]\n",
            " [   7    7   -1   -9 -100]\n",
            " [ 100   62    2    1   11]]\n",
            "Adjusting Row 2 \n",
            "Swapped elements 2 && 406 in row 2 to make it diagonally dominant\n",
            "[[  90   69    0   -1   -3]\n",
            " [   4  406    3    7    2]\n",
            " [  11  -12   43   -3   33]\n",
            " [   7    7   -1   -9 -100]\n",
            " [ 100   62    2    1   11]]\n",
            "Adjusting Row 3 \n",
            "Swapped elements 43 && 43 in row 3 to make it diagonally dominant\n",
            "[[  90   69    0   -1   -3]\n",
            " [   4  406    3    7    2]\n",
            " [  11  -12   43   -3   33]\n",
            " [   7    7   -1   -9 -100]\n",
            " [ 100   62    2    1   11]]\n",
            "Adjusting Row 4 \n",
            "Swapped elements -9 && -100 in row 4 to make it diagonally dominant\n",
            "[[  90   69    0   -1   -3]\n",
            " [   4  406    3    7    2]\n",
            " [  11  -12   43   -3   33]\n",
            " [   7    7   -1 -100   -9]\n",
            " [ 100   62    2    1   11]]\n",
            "Adjusting Row 5 \n",
            "Swapped elements 11 && 100 in row 5 to make it diagonally dominant\n",
            "[[  90   69    0   -1   -3]\n",
            " [   4  406    3    7    2]\n",
            " [  11  -12   43   -3   33]\n",
            " [   7    7   -1 -100   -9]\n",
            " [  11   62    2    1  100]]\n",
            "The matrix is now diagonally dominant\n",
            "____________________________________________________________________________________________________ \n",
            "\n",
            "Matrix obtained is: \n",
            "[[  90   69    0   -1   -3]\n",
            " [   4  406    3    7    2]\n",
            " [  11  -12   43   -3   33]\n",
            " [   7    7   -1 -100   -9]\n",
            " [  11   62    2    1  100]]\n"
          ]
        }
      ]
    },
    {
      "cell_type": "code",
      "source": [
        "row_sum = 0\n",
        "cnt = 0\n",
        "arr = A\n",
        "n = arr.shape[0]\n",
        "row_with_problem = np.zeros(n)\n",
        "\n",
        "for i in range(n):\n",
        "  for j in range(i):\n",
        "    row_sum += abs(arr[i,j])\n",
        "  for j in range(n-i-1):\n",
        "    row_sum += abs(arr[i,j+i+1])\n",
        "\n",
        "  if row_sum < abs(arr[i,i]):\n",
        "    row_with_problem[i] = 1\n",
        "    cnt += 1\n",
        "  row_sum = 0\n",
        "\n",
        "if cnt == n :\n",
        "  print(f\"{A} is diagonally dominant\")\n",
        "else :\n",
        "   print(f\"{A} \\n is not diagonally dominant\")\n"
      ],
      "metadata": {
        "colab": {
          "base_uri": "https://localhost:8080/"
        },
        "id": "ZOqs7QqYZAjU",
        "outputId": "f0e3ee88-3c94-47d3-9871-0e405209e612"
      },
      "execution_count": 10,
      "outputs": [
        {
          "output_type": "stream",
          "name": "stdout",
          "text": [
            "[[  90   69    0   -1   -3]\n",
            " [   4  406    3    7    2]\n",
            " [  11  -12   43   -3   33]\n",
            " [   7    7   -1 -100   -9]\n",
            " [  11   62    2    1  100]] \n",
            " is not diagonally dominant\n"
          ]
        }
      ]
    },
    {
      "cell_type": "code",
      "source": [
        "for i in range(n):\n",
        "  if row_with_problem[i] == 0 :\n",
        "    print (i)\n",
        "    print (arr[i])\n",
        ""
      ],
      "metadata": {
        "colab": {
          "base_uri": "https://localhost:8080/"
        },
        "id": "u4Hou41R4ySN",
        "outputId": "377a3235-d022-4e22-c695-9d2d1755bdc6"
      },
      "execution_count": 11,
      "outputs": [
        {
          "output_type": "stream",
          "name": "stdout",
          "text": [
            "2\n",
            "[ 11 -12  43  -3  33]\n"
          ]
        }
      ]
    },
    {
      "cell_type": "code",
      "source": [
        "import matplotlib.pyplot as plt\n",
        "import math\n",
        "import numpy as np\n",
        "\n",
        "x=np.linspace(-100,100,10000)\n",
        "y_relu= []\n",
        "y_sigmoid = []\n",
        "y_tanh = []\n",
        "\n",
        "def relu(x):\n",
        "  return max(0,x)\n",
        "\n",
        "def sigmoid(x):\n",
        "  return 1/(1+ math.exp(-x))\n",
        "\n",
        "def tanh(x):\n",
        "  return math.tanh(x)\n",
        "\n",
        "for i in range (len(x)):\n",
        "  y_relu.append(relu(x[i]))\n",
        "  y_sigmoid.append(sigmoid(x[i]))\n",
        "  y_tanh.append(tanh(x[i]))\n",
        "\n",
        "\n",
        "fig, ax = plt.subplots(2,1, figsize=(5,10))\n",
        "\n",
        "\n",
        "ax[0].plot(x,y_relu, color = \"blue\")\n",
        "\n",
        "\n",
        "ax[1].plot(x,y_sigmoid,color = 'blue')\n",
        "ax[1].plot(x,y_tanh,color = 'red')\n",
        "\n",
        "plt.show()"
      ],
      "metadata": {
        "colab": {
          "base_uri": "https://localhost:8080/",
          "height": 830
        },
        "id": "qgV_ln-k7IBf",
        "outputId": "c72567bb-f4d8-423b-bd0b-103ed797729b"
      },
      "execution_count": 12,
      "outputs": [
        {
          "output_type": "display_data",
          "data": {
            "text/plain": [
              "<Figure size 500x1000 with 2 Axes>"
            ],
            "image/png": "[encoded data removed]"
          },
          "metadata": {}
        }
      ]
    },
    {
      "cell_type": "code",
      "source": [
        "diagonal_elements = np.diag(arr)\n",
        "\n",
        "diag_relu = []\n",
        "diag_sigmoid = []\n",
        "diag_tanh = []\n",
        "\n",
        "for i in range(n):\n",
        "  diag_relu.append(relu(diagonal_elements[i]))\n",
        "  diag_sigmoid.append(sigmoid(diagonal_elements[i]))\n",
        "  diag_tanh.append(tanh(diagonal_elements[i]))\n",
        "\n",
        "plt.plot(diagonal_elements,diag_relu,'ob',ms=8)\n",
        "plt.plot(diagonal_elements,diag_sigmoid,'Dr')\n",
        "plt.plot(diagonal_elements,diag_tanh,'*y')\n"
      ],
      "metadata": {
        "colab": {
          "base_uri": "https://localhost:8080/",
          "height": 465
        },
        "id": "Gw-2xFDiPiSC",
        "outputId": "49b6d9e0-30d8-4ea5-d156-b4053067e810"
      },
      "execution_count": 15,
      "outputs": [
        {
          "output_type": "stream",
          "name": "stdout",
          "text": [
            "[90, 406, 43, 0, 100]\n"
          ]
        },
        {
          "output_type": "execute_result",
          "data": {
            "text/plain": [
              "[<matplotlib.lines.Line2D at 0x7e0355725990>]"
            ]
          },
          "metadata": {},
          "execution_count": 15
        },
        {
          "output_type": "display_data",
          "data": {
            "text/plain": [
              "<Figure size 640x480 with 1 Axes>"
            ],
            "image/png": "[encoded data removed]"
          },
          "metadata": {}
        }
      ]
    },
    {
      "cell_type": "code",
      "source": [
        "def softmax(arr):\n",
        "  n = arr.shape[0]\n",
        "  dd = []\n",
        "  diagonal = np.diag(arr)\n",
        "  exp_sum = 0\n",
        "\n",
        "  for i in range(n):\n",
        "    exp_sum += math.exp(diagonal[i])\n",
        "\n",
        "  for i in range(n):\n",
        "    dd.append(math.exp(diagonal[i])/exp_sum)\n",
        "\n",
        "  return dd\n",
        "\n",
        "print('Softmax of the diagonal elements of the matrix : \\n' , softmax(arr))"
      ],
      "metadata": {
        "colab": {
          "base_uri": "https://localhost:8080/"
        },
        "id": "KQ1DHAcvbJel",
        "outputId": "753b1545-e475-4af5-9473-f7d8dd173202"
      },
      "execution_count": 14,
      "outputs": [
        {
          "output_type": "stream",
          "name": "stdout",
          "text": [
            "[[  90   69    0   -1   -3]\n",
            " [   4  406    3    7    2]\n",
            " [  11  -12   43   -3   33]\n",
            " [   7    7   -1 -100   -9]\n",
            " [  11   62    2    1  100]]\n",
            "[[  90   69    0   -1   -3]\n",
            " [   4  406    3    7    2]\n",
            " [  11  -12   43   -3   33]\n",
            " [   7    7   -1 -100   -9]\n",
            " [  11   62    2    1  100]]\n",
            "Softmax of the diagonal elements of the matrix : \n",
            " [5.793536115188646e-138, 1.0, 2.244414517195439e-158, 1.7660059276035744e-220, 1.276111250721801e-133]\n"
          ]
        }
      ]
    },
    {
      "cell_type": "code",
      "source": [
        "plt.plot(softmax(arr),np.diag(arr),\"ob\" )"
      ],
      "metadata": {
        "colab": {
          "base_uri": "https://localhost:8080/",
          "height": 447
        },
        "id": "-JeElqh6-Yme",
        "outputId": "e2456f2a-bcd4-4862-9618-64e9d9b1c625"
      },
      "execution_count": 78,
      "outputs": [
        {
          "output_type": "execute_result",
          "data": {
            "text/plain": [
              "[<matplotlib.lines.Line2D at 0x7e8f95cf4970>]"
            ]
          },
          "metadata": {},
          "execution_count": 78
        },
        {
          "output_type": "display_data",
          "data": {
            "text/plain": [
              "<Figure size 640x480 with 1 Axes>"
            ],
            "image/png": "[encoded data removed]"
          },
          "metadata": {}
        }
      ]
    },
    {
      "cell_type": "code",
      "source": [
        "print(arr)\n",
        "print(diagonal_elements)\n",
        "print(softmax(arr))"
      ],
      "metadata": {
        "colab": {
          "base_uri": "https://localhost:8080/"
        },
        "id": "gsdQvMirA3UB",
        "outputId": "5d38b6ee-6aa7-4688-ae88-7f67b5b5adfc"
      },
      "execution_count": 17,
      "outputs": [
        {
          "output_type": "stream",
          "name": "stdout",
          "text": [
            "[[  90   69    0   -1   -3]\n",
            " [   4  406    3    7    2]\n",
            " [  11  -12   43   -3   33]\n",
            " [   7    7   -1 -100   -9]\n",
            " [  11   62    2    1  100]]\n",
            "[  90  406   43 -100  100]\n",
            "[5.793536115188646e-138, 1.0, 2.244414517195439e-158, 1.7660059276035744e-220, 1.276111250721801e-133]\n"
          ]
        }
      ]
    },
    {
      "cell_type": "code",
      "source": [
        "max = diagonal_elements[0]\n",
        "for i in range(n-1):\n",
        "  if max < diagonal_elements[i+1]:\n",
        "    max = diagonal_elements[i+1]\n",
        "\n",
        "for i in range(n):\n",
        "  if diagonal_elements[i] == max:\n",
        "    print(f\"{diagonal_elements[i]} : Max element in all diagonal elements\")\n",
        "  else :\n",
        "    print(f\"{diagonal_elements[i]} : Not a max element in all diagonal elements\")\n"
      ],
      "metadata": {
        "colab": {
          "base_uri": "https://localhost:8080/"
        },
        "id": "pMG9x6LfeyXt",
        "outputId": "84792fab-c583-4db9-e4e4-2659157d2683"
      },
      "execution_count": 20,
      "outputs": [
        {
          "output_type": "stream",
          "name": "stdout",
          "text": [
            "90 : Not a max element in all diagonal elements\n",
            "406 : Max element in all diagonal elements\n",
            "43 : Not a max element in all diagonal elements\n",
            "-100 : Not a max element in all diagonal elements\n",
            "100 : Not a max element in all diagonal elements\n"
          ]
        }
      ]
    },
    {
      "cell_type": "markdown",
      "source": [
        "softmax function gives higher probability to the element with higher weight."
      ],
      "metadata": {
        "id": "TECFyBDRhFPx"
      }
    }
  ]
}